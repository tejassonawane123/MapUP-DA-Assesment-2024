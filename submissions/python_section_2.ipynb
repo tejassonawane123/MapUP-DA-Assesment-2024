{
 "cells": [
  {
   "cell_type": "markdown",
   "id": "ef76f9eb-a5c1-4466-9715-bde27edc876c",
   "metadata": {},
   "source": [
    "Python Section 2\n",
    "\r\n",
    "(Questions in this section are interrelated, so please solve them accordingly.)\r\n",
    "\r\n",
    "Question 9: Distance Matrix Calculation\r\n",
    "Create a function named calculate_distance_matrix that takes the dataset-2.csv as input and generates a DataFrame representing distances between IDs.\r\n",
    "\r\n",
    "The resulting DataFrame should have cumulative distances along known routes, with diagonal values set to 0. If distances between toll locations A to B and B to C are known, then the distance from A to C should be the sum of these distances. Ensure the matrix is symmetric, accounting for bidirectional distances between toll locations (i.e. A to B is equal to B aframe:\r\n"
   ]
  },
  {
   "cell_type": "code",
   "execution_count": 1,
   "id": "d23f03cd-0d97-49cb-b3d7-4d24e01de4f8",
   "metadata": {},
   "outputs": [],
   "source": [
    "import pandas as pd\n",
    "import numpy as np\n",
    "\n",
    "def calculate_distance_matrix(df: pd.DataFrame) -> pd.DataFrame:\n",
    "    matrix = pd.pivot_table(df, values='distance', index='id_start', columns='id_end', aggfunc='sum')\n",
    "    matrix = matrix.fillna(0)\n",
    "    \n",
    "    # Symmetric matrix for bidirectional routes\n",
    "    matrix = matrix.add(matrix.T, fill_value=0)\n",
    "    return matrix\n"
   ]
  },
  {
   "cell_type": "markdown",
   "id": "e174ce2b-e32b-4e97-8182-ec9f03961c14",
   "metadata": {},
   "source": [
    "Question 10: Unroll Distance Matrix\r\n",
    "Create a function unroll_distance_matrix that takes the DataFrame created in Question 9. The resulting DataFrame should have three columns: columns id_start, id_end, and distance.\r\n",
    "\r\n",
    "All the combinations except for same id_start to id_end must be present in the rows with their distance values from the input DataFrame."
   ]
  },
  {
   "cell_type": "code",
   "execution_count": 2,
   "id": "f6133851-89c3-42e6-873c-9475b8d21db1",
   "metadata": {},
   "outputs": [],
   "source": [
    "import pandas as pd\n",
    "\n",
    "def unroll_distance_matrix(df: pd.DataFrame) -> pd.DataFrame:\n",
    "    unrolled = df.stack().reset_index()\n",
    "    unrolled.columns = ['id_start', 'id_end', 'distance']\n",
    "    unrolled = unrolled[unrolled['id_start'] != unrolled['id_end']]\n",
    "    return unrolled\n"
   ]
  },
  {
   "cell_type": "markdown",
   "id": "178a766b-ed27-4d3f-baef-bf075a24c3ff",
   "metadata": {},
   "source": [
    "Question 11: Finding IDs within Percentage Threshold\r\n",
    "Create a function find_ids_within_ten_percentage_threshold that takes the DataFrame created in Question 10 and a reference value from the id_start column as an integer.\r\n",
    "\r\n",
    "Calculate average distance for the reference value given as an input and return a sorted list of values from id_start column which lie within 10% (including ceiling and floor) of the reference value's average."
   ]
  },
  {
   "cell_type": "code",
   "execution_count": 3,
   "id": "bdf1adfd-1384-4ac6-a9bc-73a29f125a0b",
   "metadata": {},
   "outputs": [],
   "source": [
    "import pandas as pd\n",
    "\n",
    "def find_ids_within_ten_percentage_threshold(df: pd.DataFrame, reference_id: int) -> pd.DataFrame:\n",
    "    ref_avg_distance = df[df['id_start'] == reference_id]['distance'].mean()\n",
    "    min_threshold = ref_avg_distance * 0.9\n",
    "    max_threshold = ref_avg_distance * 1.1\n",
    "\n",
    "    return df.groupby('id_start')['distance'].mean().loc[\n",
    "        lambda x: (x >= min_threshold) & (x <= max_threshold)\n",
    "    ].index.tolist()\n"
   ]
  },
  {
   "cell_type": "markdown",
   "id": "6bb630f9-8ea9-4b78-9bec-79a4c9b8dcab",
   "metadata": {},
   "source": [
    "Question 12: Calculate Toll Rate\n",
    "\r\n",
    "Create a function calculate_toll_rate that takes the DataFrame created in Question 10 as input and calculates toll rates based on vehicle types.\r\n",
    "\r\n",
    "The resulting DataFrame should add 5 columns to the input DataFrame: moto, car, rv, bus, and truck with their respective rate coefficients. The toll rates should be calculated by multiplying the distance with the given rate coefficients for each vehicle type:\r\n",
    "\r\n",
    "0.8 for moto\r\n",
    "1.2 for car\r\n",
    "1.5 for rv\r\n",
    "2.2 for bus\r\n",
    "3.6 for truck"
   ]
  },
  {
   "cell_type": "code",
   "execution_count": 4,
   "id": "c2e1736c-1204-4e20-8f34-4144d9173815",
   "metadata": {},
   "outputs": [],
   "source": [
    "import pandas as pd\n",
    "\n",
    "def calculate_toll_rate(df: pd.DataFrame) -> pd.DataFrame:\n",
    "    rate_coefficients = {'moto': 0.8, 'car': 1.2, 'rv': 1.5, 'bus': 2.2, 'truck': 3.6}\n",
    "    \n",
    "    for vehicle, rate in rate_coefficients.items():\n",
    "        df[vehicle] = df['distance'] * rate\n",
    "\n",
    "    return df\n"
   ]
  },
  {
   "cell_type": "markdown",
   "id": "cd5a091d-0407-4add-a812-6614f3c894de",
   "metadata": {},
   "source": [
    "Question 13: Calculate Time-Based Toll Rates\r\n",
    "Create a function named calculate_time_based_toll_rates that takes the DataFrame created in Question 12 as input and calculates toll rates for different time intervals within a day.\r\n",
    "\r\n",
    "The resulting DataFrame should have these five columns added to the input: start_day, start_time, end_day, and end_time.\r\n",
    "\r\n",
    "start_day, end_day must be strings with day values (from Monday to Sunday in proper case)\r\n",
    "start_time and end_time must be of type datetime.time() with the values from time range given below.\r\n",
    "Modify the values of vehicle columns according to the following time ranges:\r\n",
    "\r\n",
    "Weekdays (Monday - Friday):\r\n",
    "\r\n",
    "From 00:00:00 to 10:00:00: Apply a discount factor of 0.8\r\n",
    "From 10:00:00 to 18:00:00: Apply a discount factor of 1.2\r\n",
    "From 18:00:00 to 23:59:59: Apply a discount factor of 0.8\r\n",
    "Weekends (Saturday and Sunday):\r\n",
    "\r\n",
    "Apply a constant discount factor of 0.7 for all times.\r\n",
    "For each unique (id_start, id_end) pair, cover a full 24-hour period (from 12:00:00 AM to 11:59:59 PM) and span all 7 days of the week (from Monday to Sunday)."
   ]
  },
  {
   "cell_type": "code",
   "execution_count": 5,
   "id": "fa98ee05-4256-45b5-aa16-fd0527ccc061",
   "metadata": {},
   "outputs": [],
   "source": [
    "import pandas as pd\n",
    "import datetime\n",
    "\n",
    "def calculate_time_based_toll_rates(df: pd.DataFrame) -> pd.DataFrame:\n",
    "    df['start_time'] = pd.to_datetime(df['start_time']).dt.time\n",
    "    df['end_time'] = pd.to_datetime(df['end_time']).dt.time\n",
    "    \n",
    "    def apply_time_discounts(row):\n",
    "        weekdays = ['Monday', 'Tuesday', 'Wednesday', 'Thursday', 'Friday']\n",
    "        if row['start_day'] in weekdays:\n",
    "            if row['start_time'] <= pd.to_datetime('10:00:00').time():\n",
    "                discount_factor = 0.8\n",
    "            elif row['start_time'] <= pd.to_datetime('18:00:00').time():\n",
    "                discount_factor = 1.2\n",
    "            else:\n",
    "                discount_factor = 0.8\n",
    "        else:\n",
    "            discount_factor = 0.7\n",
    "        \n",
    "        return discount_factor\n",
    "\n",
    "    for vehicle in ['moto', 'car', 'rv', 'bus', 'truck']:\n",
    "        df[vehicle] = df.apply(apply_time_discounts, axis=1) * df[vehicle]\n",
    "    \n",
    "    return df\n"
   ]
  }
 ],
 "metadata": {
  "kernelspec": {
   "display_name": "Python 3 (ipykernel)",
   "language": "python",
   "name": "python3"
  },
  "language_info": {
   "codemirror_mode": {
    "name": "ipython",
    "version": 3
   },
   "file_extension": ".py",
   "mimetype": "text/x-python",
   "name": "python",
   "nbconvert_exporter": "python",
   "pygments_lexer": "ipython3",
   "version": "3.11.7"
  }
 },
 "nbformat": 4,
 "nbformat_minor": 5
}
