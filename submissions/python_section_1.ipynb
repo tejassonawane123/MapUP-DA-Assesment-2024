{
 "cells": [
  {
   "cell_type": "markdown",
   "id": "dcf99489-02b1-4047-9cf2-a1a82bacde91",
   "metadata": {},
   "source": [
    "Question 1: Reverse List by N Elements\n",
    "\r\n",
    "Problem Statement:\r\n",
    "\r\n",
    "Write a function that takes a list and an integer n, and returns the list with every group of n elements reversed. If there are fewer than n elements left at the end, reverse all of them.\r\n",
    "\r\n",
    "Requirements:\r\n",
    "\r\n",
    "You must not use any built-in slicing or reverse functions to directly reverse the sublists.\r\n",
    "The result should reverse the elements in groups of size n.\r\n",
    "Example:\r\n",
    "\r\n",
    "Input: [1, 2, 3, 4, 5, 6, 7, 8], n=3\r\n",
    "\r\n",
    "Output: [3, 2, 1, 6, 5, 4, 8, 7]\r\n",
    "Input: [1, 2, 3, 4, 5], n=2\r\n",
    "\r\n",
    "Output: [2, 1, 4, 3, 5]\r\n",
    "Input: [10, 20, 30, 40, 50, 60, 70], n=4\r\n",
    "\r\n",
    "Output: [40, 30, 20, 10, 70, 60, 50]"
   ]
  },
  {
   "cell_type": "code",
   "execution_count": 1,
   "id": "d1f3db37-4dce-45b4-a274-c12479aebada",
   "metadata": {},
   "outputs": [],
   "source": [
    "from typing import Dict, List\n",
    "import pandas as pd"
   ]
  },
  {
   "cell_type": "code",
   "execution_count": 2,
   "id": "4079ef35-3ab2-48ce-9b81-1256dd8a541b",
   "metadata": {},
   "outputs": [],
   "source": [
    "def reverse_by_n_elements(lst: List[int], n: int) -> List[int]:\n",
    "    result = []\n",
    "    for i in range(0, len(lst), n):\n",
    "        group = lst[i:i + n]\n",
    "        for j in range(len(group) - 1, -1, -1):  # Reversing without built-in functions\n",
    "            result.append(group[j])\n",
    "    return result\n"
   ]
  },
  {
   "cell_type": "markdown",
   "id": "75242916-336e-4451-a863-0da581468f75",
   "metadata": {},
   "source": [
    "Question 2: Lists & Dictionaries\n",
    "\r\n",
    "Problem Statement:\r\n",
    "\r\n",
    "Write a function that takes a list of strings and groups them by their length. The result should be a dictionary where:\r\n",
    "\r\n",
    "The keys are the string lengths.\r\n",
    "The values are lists of strings that have the same length as the key.\r\n",
    "Requirements:\r\n",
    "\r\n",
    "Each string should appear in the list corresponding to its length.\r\n",
    "The result should be sorted by the lengths (keys) in ascending order.\r\n",
    "Example:\r\n",
    "\r\n",
    "Input: [\"apple\", \"bat\", \"car\", \"elephant\", \"dog\", \"bear\"]\r\n",
    "\r\n",
    "Output: {3: ['bat', 'car', 'dog'], 4: ['bear'], 5: ['apple'], 8: ['elephant']}\r\n",
    "Input: [\"one\", \"two\", \"three\", \"four\"]\r\n",
    "\r\n",
    "Output: {3: ['one', 'two'], 4: ['four'], 5: ['three']}"
   ]
  },
  {
   "cell_type": "code",
   "execution_count": 3,
   "id": "45f94a94-e4be-499d-946c-436c14b9e8ab",
   "metadata": {},
   "outputs": [],
   "source": [
    "def group_by_length(lst: List[str]) -> Dict[int, List[str]]:\n",
    "    length_dict = {}\n",
    "    for string in lst:\n",
    "        key = len(string)\n",
    "        if key not in length_dict:\n",
    "            length_dict[key] = []\n",
    "        length_dict[key].append(string)\n",
    "    return dict(sorted(length_dict.items()))\n"
   ]
  },
  {
   "cell_type": "markdown",
   "id": "fa8d5487-05f8-40dc-a0d0-b56b2a6d4d51",
   "metadata": {},
   "source": [
    "Question 3: Flatten a Nested Dictionary\r\n",
    "You are given a nested dictionary that contains various details (including lists and sub-dictionaries). Your task is to write a Python function that flattens the dictionary such that:\r\n",
    "\r\n",
    "Nested keys are concatenated into a single key with levels separated by a dot (.).\r\n",
    "List elements should be referenced by their index, enclosed in square brackets (e.g., sections[0]).\r\n",
    "For example, if a key points to a list, the index of the list element should be appended to the key string, followed by a dot to handle further nested dictionaries.\r\n",
    "\r\n",
    "Requirements:\r\n",
    "\r\n",
    "Nested Dictionary: Flatten nested dictionaries into a single level, concatenating keys.\r\n",
    "Handling Lists: Flatten lists by using the index as part of the key.\r\n",
    "Key Separator: Use a dot (.) as a separator between nested key levels.\r\n",
    "Empty Input: The function should handle empty dictionaries gracefully.\r\n",
    "Nested Depth: You can assume the dictionary has a maximum of 4 levels of nesting.\r\n",
    "Example:\r\n",
    "\r\n",
    "Input:\r\n",
    "\r\n",
    "{\r\n",
    "    \"road\": {\r\n",
    "        \"name\": \"Highway 1\",\r\n",
    "        \"length\": 350,\r\n",
    "        \"sections\": [\r\n",
    "            {\r\n",
    "                \"id\": 1,\r\n",
    "                \"condition\": {\r\n",
    "                    \"pavement\": \"good\",\r\n",
    "                    \"traffic\": \"moderate\"\r\n",
    "                }\r\n",
    "            }\r\n",
    "        ]\r\n",
    "    }\r\n",
    "}\r\n",
    "Output:\r\n",
    "\r\n",
    "{\r\n",
    "    \"road.name\": \"Highway 1\",\r\n",
    "    \"road.length\": 350,\r\n",
    "    \"road.sections[0].id\": 1,\r\n",
    "    \"road.sections[0].condition.pavement\": \"good\",\r\n",
    "    \"road.sections[0].condition.traffic\": \"moderate\"\r\n",
    "}"
   ]
  },
  {
   "cell_type": "code",
   "execution_count": 4,
   "id": "c387db49-632a-4707-b594-313c177eea6b",
   "metadata": {},
   "outputs": [],
   "source": [
    "def flatten_dict(nested_dict: Dict, sep: str = '.') -> Dict:\n",
    "    def recurse(d, parent_key=''):\n",
    "        items = []\n",
    "        for k, v in d.items():\n",
    "            new_key = f\"{parent_key}{sep}{k}\" if parent_key else k\n",
    "            if isinstance(v, dict):\n",
    "                items.extend(recurse(v, new_key).items())\n",
    "            elif isinstance(v, list):\n",
    "                for idx, item in enumerate(v):\n",
    "                    items.extend(recurse({f'{new_key}[{idx}]': item}).items())\n",
    "            else:\n",
    "                items.append((new_key, v))\n",
    "        return dict(items)\n",
    "    \n",
    "    return recurse(nested_dict)\n"
   ]
  },
  {
   "cell_type": "markdown",
   "id": "eb11f244-4e17-4427-9454-af8aa0d98874",
   "metadata": {},
   "source": [
    "Question 4: Generate Unique Permutations\n",
    "\r\n",
    "Problem Statement:\r\n",
    "\r\n",
    "You are given a list of integers that may contain duplicates. Your task is to generate all unique permutations of the list. The output should not contain any duplicate permutations.\r\n",
    "\r\n",
    "Example:\r\n",
    "\r\n",
    "Input:\r\n",
    "\r\n",
    "[1, 1, 2]\r\n",
    "Output:\r\n",
    "\r\n",
    "[\r\n",
    "    [1, 1, 2],\r\n",
    "    [1, 2, 1],\r\n",
    "    [2, 1, 1]\r\n",
    "]"
   ]
  },
  {
   "cell_type": "code",
   "execution_count": 5,
   "id": "75f99810-a9f8-4b79-a8c3-e1272dc8a077",
   "metadata": {},
   "outputs": [],
   "source": [
    "from itertools import permutations\n",
    "\n",
    "def unique_permutations(nums: List[int]) -> List[List[int]]:\n",
    "    return sorted([list(perm) for perm in set(permutations(nums))])\n"
   ]
  },
  {
   "cell_type": "markdown",
   "id": "7c58b98e-fe7c-465c-b9b5-43e3a1d8881f",
   "metadata": {},
   "source": [
    "Question 5: Find All Dates in a Text\n",
    "\r\n",
    "Problem Statement:\r\n",
    "\r\n",
    "You are given a string that contains dates in various formats (such as \"dd-mm-yyyy\", \"mm/dd/yyyy\", \"yyyy.mm.dd\", etc.). Your task is to identify and return all the valid dates present in the string.\r\n",
    "\r\n",
    "You need to write a function find_all_dates that takes a string as input and returns a list of valid dates found in the text. The dates can be in any of the following formats:\r\n",
    "\r\n",
    "dd-mm-yyyy\r\n",
    "mm/dd/yyyy\r\n",
    "yyyy.mm.dd\r\n",
    "You are required to use regular expressions to identify these dates.\r\n",
    "\r\n",
    "Example:\r\n",
    "\r\n",
    "Input:\r\n",
    "\r\n",
    "text = \"I was born on 23-08-1994, my friend on 08/23/1994, and another one on 1994.08.23.\"\r\n",
    "Output:\r\n",
    "\r\n",
    "[\"23-08-1994\", \"08/23/1994\", \"1994.08.23\"]"
   ]
  },
  {
   "cell_type": "code",
   "execution_count": 6,
   "id": "f427b9e5-b29c-4448-b83e-dcf406dd5ea1",
   "metadata": {},
   "outputs": [],
   "source": [
    "import re\n",
    "\n",
    "def find_all_dates(text: str) -> List[str]:\n",
    "    pattern = r'(\\d{2}-\\d{2}-\\d{4})|(\\d{2}/\\d{2}/\\d{4})|(\\d{4}\\.\\d{2}\\.\\d{2})'\n",
    "    matches = re.findall(pattern, text)\n",
    "    return [match for group in matches for match in group if match]\n"
   ]
  },
  {
   "cell_type": "markdown",
   "id": "2c5fd3ab-c9e1-406a-b8c5-96d177c307f0",
   "metadata": {},
   "source": [
    "Question 6: Decode Polyline, Convert to DataFrame with Distances\r\n",
    "You are given a polyline string, which encodes a series of latitude and longitude coordinates. Polyline encoding is a method to efficiently store latitude and longitude data using fewer bytes. The Python polyline module allows you to decode this string into a list of coordinates.\r\n",
    "\r\n",
    "Write a function that performs the following operations:\r\n",
    "\r\n",
    "Decode the polyline string using the polyline module into a list of (latitude, longitude) coordinates.\r\n",
    "Convert these coordinates into a Pandas DataFrame with the following columns:\r\n",
    "latitude: Latitude of the coordinate.\r\n",
    "longitude: Longitude of the coordinate.\r\n",
    "distance: The distance (in meters) between the current row's coordinate and the previous row's one. The first row will have a distance of 0 since there is no previous point.\r\n",
    "Calculate the distance using the Haversine formula for points in successive rows."
   ]
  },
  {
   "cell_type": "code",
   "execution_count": 8,
   "id": "1bf193c5-0c0f-406c-b821-e13425d56a89",
   "metadata": {},
   "outputs": [
    {
     "name": "stdout",
     "output_type": "stream",
     "text": [
      "Collecting haversine\n",
      "  Downloading haversine-2.8.1-py2.py3-none-any.whl.metadata (5.9 kB)\n",
      "Downloading haversine-2.8.1-py2.py3-none-any.whl (7.7 kB)\n",
      "Installing collected packages: haversine\n",
      "Successfully installed haversine-2.8.1\n"
     ]
    }
   ],
   "source": [
    "!pip install haversine"
   ]
  },
  {
   "cell_type": "code",
   "execution_count": 9,
   "id": "841bc5f0-fec6-45bd-9360-e26d3cc25f93",
   "metadata": {},
   "outputs": [],
   "source": [
    "import polyline  \n",
    "from haversine import haversine\n",
    "\n",
    "def polyline_to_dataframe(polyline_str: str) -> pd.DataFrame:\n",
    "    decoded = polyline.decode(polyline_str)  # Assuming polyline is imported\n",
    "    lat_lon_pairs = [(lat, lon) for lat, lon in decoded]\n",
    "\n",
    "    data = []\n",
    "    for i in range(len(lat_lon_pairs)):\n",
    "        if i == 0:\n",
    "            distance = 0\n",
    "        else:\n",
    "            distance = haversine(lat_lon_pairs[i - 1], lat_lon_pairs[i]) * 1000\n",
    "        data.append([lat_lon_pairs[i][0], lat_lon_pairs[i][1], distance])\n",
    "\n",
    "    df = pd.DataFrame(data, columns=['latitude', 'longitude', 'distance'])\n",
    "    return df"
   ]
  },
  {
   "cell_type": "markdown",
   "id": "8ea7d177-ccca-4e8d-afb1-2baacc6088b7",
   "metadata": {},
   "source": [
    "Question 7: Matrix Rotation and Transformation\r\n",
    "Write a function that performs the following operations on a square matrix (n x n):\r\n",
    "\r\n",
    "Rotate the matrix by 90 degrees clockwise.\r\n",
    "After rotation, for each element in the rotated matrix, replace it with the sum of all elements in the same row and column (in the rotated matrix), excluding itself.\r\n",
    "The function should return the transformed matrix.\r\n",
    "\r\n",
    "Example\r\n",
    "For the input matrix:\r\n",
    "\r\n",
    "matrix = [[1, 2, 3],[4, 5, 6],[7, 8, 9]]\r\n",
    "Rotate the matrix by 90 degrees clockwise:\r\n",
    "\r\n",
    "rotated_matrix = [[7, 4, 1],[8, 5, 2],[9, 6, 3]]\r\n",
    "Replace each element with the sum of all elements in the same row and column, excluding itself:\r\n",
    "\r\n",
    "final_matrix = [[22, 19, 16],[23, 20, 17],[24, 21, 18]]"
   ]
  },
  {
   "cell_type": "code",
   "execution_count": 10,
   "id": "9a8bbea1-1df4-4d3a-bfcb-d957b5fa5bb0",
   "metadata": {},
   "outputs": [],
   "source": [
    "def rotate_and_multiply_matrix(matrix: List[List[int]]) -> List[List[int]]:\n",
    "    n = len(matrix)\n",
    "    rotated_matrix = [[matrix[n - j - 1][i] for j in range(n)] for i in range(n)]\n",
    "    \n",
    "    transformed_matrix = []\n",
    "    for i in range(n):\n",
    "        row_sum = sum(rotated_matrix[i])\n",
    "        new_row = []\n",
    "        for j in range(n):\n",
    "            col_sum = sum([rotated_matrix[k][j] for k in range(n)])\n",
    "            new_row.append(row_sum + col_sum - rotated_matrix[i][j])\n",
    "        transformed_matrix.append(new_row)\n",
    "    \n",
    "    return transformed_matrix\n"
   ]
  },
  {
   "cell_type": "markdown",
   "id": "b2b0df2a-fb6d-448a-941a-6732be5216ce",
   "metadata": {},
   "source": [
    "Question 8: Time Check\r\n",
    "You are given a dataset, dataset-1.csv, containing columns id, id_2, and timestamp (startDay, startTime, endDay, endTime). The goal is to verify the completeness of the time data by checking whether the timestamps for each unique (id, id_2) pair cover a full 24-hour period (from 12:00:00 AM to 11:59:59 PM) and span all 7 days of the week (from Monday to Sunday).\r\n",
    "\r\n",
    "Create a function that accepts dataset-1.csv as a DataFrame and returns a boolean series that indicates if each (id, id_2) pair has incorrect timestamps. The boolean series must have multi-index (id, id_2)."
   ]
  },
  {
   "cell_type": "code",
   "execution_count": 11,
   "id": "936939fc-1ddf-48f7-8424-3e61ecc27807",
   "metadata": {},
   "outputs": [],
   "source": [
    "def time_check(df: pd.DataFrame) -> pd.Series:\n",
    "    def is_complete(group):\n",
    "        full_days = set(['Monday', 'Tuesday', 'Wednesday', 'Thursday', 'Friday', 'Saturday', 'Sunday'])\n",
    "        group_days = set(group['startDay'].unique())\n",
    "        return full_days == group_days and group['time_range'].sum() == 24*60*60\n",
    "\n",
    "    df['time_range'] = (pd.to_datetime(df['endTime']) - pd.to_datetime(df['startTime'])).dt.total_seconds()\n",
    "    return df.groupby(['id', 'id_2']).apply(is_complete)\n"
   ]
  }
 ],
 "metadata": {
  "kernelspec": {
   "display_name": "Python 3 (ipykernel)",
   "language": "python",
   "name": "python3"
  },
  "language_info": {
   "codemirror_mode": {
    "name": "ipython",
    "version": 3
   },
   "file_extension": ".py",
   "mimetype": "text/x-python",
   "name": "python",
   "nbconvert_exporter": "python",
   "pygments_lexer": "ipython3",
   "version": "3.11.7"
  }
 },
 "nbformat": 4,
 "nbformat_minor": 5
}
